{
 "cells": [
  {
   "cell_type": "code",
   "execution_count": 2,
   "source": [
    "import numpy as np \r\n",
    "import mathplotlib.pyplot as plt \r\n",
    "import pandas as pd \r\n",
    "import pandas_datareader as web \r\n",
    "import datetime as dt \r\n",
    "\r\n",
    "from sklearn.preprocessing import MinMaxScaler\r\n",
    "from tensorflow.keras.models import Sequential\r\n",
    "from tensorflow.keras.layers import  Dense, Dropout, LSTM\r\n",
    "\r\n",
    "\r\n"
   ],
   "outputs": [
    {
     "output_type": "error",
     "ename": "ModuleNotFoundError",
     "evalue": "No module named 'mathplotlib'",
     "traceback": [
      "\u001b[1;31m---------------------------------------------------------------------------\u001b[0m",
      "\u001b[1;31mModuleNotFoundError\u001b[0m                       Traceback (most recent call last)",
      "\u001b[1;32m<ipython-input-2-e73d5a8f4037>\u001b[0m in \u001b[0;36m<module>\u001b[1;34m\u001b[0m\n\u001b[0;32m      1\u001b[0m \u001b[1;32mimport\u001b[0m \u001b[0mnumpy\u001b[0m \u001b[1;32mas\u001b[0m \u001b[0mnp\u001b[0m\u001b[1;33m\u001b[0m\u001b[1;33m\u001b[0m\u001b[0m\n\u001b[1;32m----> 2\u001b[1;33m \u001b[1;32mimport\u001b[0m \u001b[0mmathplotlib\u001b[0m\u001b[1;33m.\u001b[0m\u001b[0mpyplot\u001b[0m \u001b[1;32mas\u001b[0m \u001b[0mplt\u001b[0m\u001b[1;33m\u001b[0m\u001b[1;33m\u001b[0m\u001b[0m\n\u001b[0m\u001b[0;32m      3\u001b[0m \u001b[1;32mimport\u001b[0m \u001b[0mpandas\u001b[0m \u001b[1;32mas\u001b[0m \u001b[0mpd\u001b[0m\u001b[1;33m\u001b[0m\u001b[1;33m\u001b[0m\u001b[0m\n\u001b[0;32m      4\u001b[0m \u001b[1;32mimport\u001b[0m \u001b[0mpandas_datareader\u001b[0m \u001b[1;32mas\u001b[0m \u001b[0mweb\u001b[0m\u001b[1;33m\u001b[0m\u001b[1;33m\u001b[0m\u001b[0m\n\u001b[0;32m      5\u001b[0m \u001b[1;32mimport\u001b[0m \u001b[0mdatetime\u001b[0m \u001b[1;32mas\u001b[0m \u001b[0mdt\u001b[0m\u001b[1;33m\u001b[0m\u001b[1;33m\u001b[0m\u001b[0m\n",
      "\u001b[1;31mModuleNotFoundError\u001b[0m: No module named 'mathplotlib'"
     ]
    }
   ],
   "metadata": {}
  },
  {
   "cell_type": "markdown",
   "source": [
    "# Load Data"
   ],
   "metadata": {}
  },
  {
   "cell_type": "code",
   "execution_count": null,
   "source": [
    "company = 'FB'\r\n",
    "\r\n",
    "start = dt.datetime(2012,1,1)\r\n",
    "end = dt.datetime(2020,1,1)\r\n",
    "\r\n",
    "\r\n",
    "data = web.DataReader(company, 'yahoo', start, end)"
   ],
   "outputs": [],
   "metadata": {}
  },
  {
   "cell_type": "markdown",
   "source": [
    "### Prepare Data"
   ],
   "metadata": {}
  },
  {
   "cell_type": "code",
   "execution_count": null,
   "source": [
    "scaler = MinMaxScaler(feature_range=(0,1))\r\n",
    "scaled_data = scaler.fit_transform(data['close'].values.reshape(-1,1))\r\n",
    "\r\n",
    "prediction_days = 60\r\n",
    "\r\n",
    "\r\n",
    "x_train = []\r\n",
    "y_train = []\r\n",
    "\r\n",
    "for x in range(prediction_days, len(scaled_data)):\r\n",
    "    x_train.append(scaled_data[x-prediction_days:x, 0])\r\n",
    "    y_train.append(scaled_data[x,0])\r\n",
    "\r\n",
    "x_train, y_train = np.array(x_train), np.array(y_train)\r\n",
    "x_train = np.reshape(x_train, (x_train[0], x_train.shape[1], 1))"
   ],
   "outputs": [],
   "metadata": {}
  },
  {
   "cell_type": "markdown",
   "source": [
    "## Built  The   Model"
   ],
   "metadata": {}
  },
  {
   "cell_type": "code",
   "execution_count": null,
   "source": [
    "model = Sequential()\r\n",
    "\r\n",
    "model.add(LSTM(units=50, return_sequences=True, input_shape=(x_train.shape[1], 1)))\r\n",
    "model.add(Dropout(0.2))\r\n",
    "model.add(LSTM(units=50, return_sequences=True))\r\n",
    "model.add(Dropout(0.2))\r\n",
    "model.add(LSTM(units=50))\r\n",
    "model.add(Dropout(0.2))\r\n",
    "model.add(Dense(units=1))  #Prediction of the next closing values\r\n",
    "\r\n",
    "model.compile(optimizer='adam'), loss='mean_squared_error'\r\n",
    "model.fit(x_train, y_train, epochs=25, batch_size = 32)"
   ],
   "outputs": [],
   "metadata": {}
  },
  {
   "cell_type": "markdown",
   "source": [
    "\"\" Test the model accuracy on existing Data \"\""
   ],
   "metadata": {}
  },
  {
   "cell_type": "code",
   "execution_count": null,
   "source": [
    "test_start = dt.datetime(2020, 1, 1)\r\n",
    "test_end = dt.datetime.now()\r\n",
    "\r\n",
    "test_data =web.DataReader(company, 'yahoo', test_start, test_end)\r\n",
    "actual_price = test_data['close'].values\r\n",
    "\r\n",
    "total_dataset = pd.concat((data['close'], test_start['close']), axis=0)\r\n",
    "\r\n",
    "model_inputs = total_dataset[len(total_dataset) - len(test_data) - prediction_days:].values\r\n",
    "model_inputs = model_inputs.reshape(-1, 1)\r\n",
    "model_inputs = scaler.transform(model_inputs)"
   ],
   "outputs": [],
   "metadata": {}
  }
 ],
 "metadata": {
  "orig_nbformat": 4,
  "language_info": {
   "name": "python",
   "version": "3.8.5",
   "mimetype": "text/x-python",
   "codemirror_mode": {
    "name": "ipython",
    "version": 3
   },
   "pygments_lexer": "ipython3",
   "nbconvert_exporter": "python",
   "file_extension": ".py"
  },
  "kernelspec": {
   "name": "python3",
   "display_name": "Python 3.8.5 64-bit ('base': conda)"
  },
  "interpreter": {
   "hash": "75d0ae8c9112c10c318554f3bfba620b526c065cba549f2cf2d95ec284a6795e"
  }
 },
 "nbformat": 4,
 "nbformat_minor": 2
}