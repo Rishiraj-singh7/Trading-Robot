{
 "cells": [
  {
   "cell_type": "code",
   "execution_count": null,
   "source": [
    "import numpy as np \r\n",
    "import mathplotlib.pyplot as plt \r\n",
    "import pandas as pd \r\n",
    "import pandas_datareader as web \r\n",
    "import datetime as dt \r\n",
    "\r\n",
    "from sklearn.preprocessing import MinMaxScaler\r\n",
    "from tensorflow.keras.models import Sequential\r\n",
    "from tensorflow.keras.layers import  Dense, Dropout, LSTM\r\n",
    "\r\n",
    "\r\n"
   ],
   "outputs": [],
   "metadata": {}
  },
  {
   "cell_type": "markdown",
   "source": [
    "# Load Data"
   ],
   "metadata": {}
  },
  {
   "cell_type": "code",
   "execution_count": null,
   "source": [
    "company = 'FB'\r\n",
    "\r\n",
    "start = dt.datetime(2012,1,1)\r\n",
    "end = dt.datetime(2020,1,1)\r\n",
    "\r\n",
    "\r\n",
    "data = web.DataReader(company, 'yahoo', start, end)"
   ],
   "outputs": [],
   "metadata": {}
  },
  {
   "cell_type": "code",
   "execution_count": null,
   "source": [],
   "outputs": [],
   "metadata": {}
  }
 ],
 "metadata": {
  "orig_nbformat": 4,
  "language_info": {
   "name": "python"
  }
 },
 "nbformat": 4,
 "nbformat_minor": 2
}