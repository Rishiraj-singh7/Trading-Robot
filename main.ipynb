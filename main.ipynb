{
 "cells": [
  {
   "cell_type": "code",
   "execution_count": null,
   "source": [
    "import numpy as np \r\n",
    "import mathplotlib.pyplot as plt \r\n",
    "import pandas as pd \r\n",
    "import pandas_datareader as web \r\n",
    "import datetime as dt \r\n",
    "\r\n",
    "from sklearn.preprocessing import MinMaxScaler\r\n",
    "from tensorflow.keras.models import Sequential\r\n",
    "from tensorflow.keras.layers import  Dense, Dropout, LSTM\r\n",
    "\r\n",
    "\r\n"
   ],
   "outputs": [],
   "metadata": {}
  },
  {
   "cell_type": "markdown",
   "source": [
    "# Load Data"
   ],
   "metadata": {}
  },
  {
   "cell_type": "code",
   "execution_count": null,
   "source": [
    "company = 'FB'\r\n",
    "\r\n",
    "start = dt.datetime(2012,1,1)\r\n",
    "end = dt.datetime(2020,1,1)\r\n",
    "\r\n",
    "\r\n",
    "data = web.DataReader(company, 'yahoo', start, end)"
   ],
   "outputs": [],
   "metadata": {}
  },
  {
   "cell_type": "markdown",
   "source": [
    "### Prepare Data"
   ],
   "metadata": {}
  },
  {
   "cell_type": "code",
   "execution_count": null,
   "source": [
    "scaler = MinMaxScaler(feature_range=(0,1))\r\n",
    "scaled_data = scaler.fit_transform(data['close'].values.reshape(-1,1))\r\n",
    "\r\n",
    "prediction_days = 60\r\n",
    "\r\n",
    "\r\n",
    "x_train = []\r\n",
    "y_train = []\r\n",
    "\r\n",
    "for x in range(prediction_days, len(scaled_data)):\r\n",
    "    x_train.append(scaled_data[x-prediction_days:x, 0])\r\n",
    "    y_train.append(scaled_data[x,0])\r\n",
    "\r\n",
    "x_train, y_train = np.array(x_train), np.array(y_train)\r\n",
    "x_train = np.reshape(x_train, (x_train[0], x_train.shape[1], 1))"
   ],
   "outputs": [],
   "metadata": {}
  },
  {
   "cell_type": "markdown",
   "source": [
    "## Built  The   Model"
   ],
   "metadata": {}
  },
  {
   "cell_type": "code",
   "execution_count": null,
   "source": [
    "model = Sequential()\r\n",
    "\r\n",
    "model.add(LSTM(units=50, return_sequences=True, input_shape=(x_train.shape[1], 1)))\r\n",
    "model.add(Dropout(0.2))"
   ],
   "outputs": [],
   "metadata": {}
  }
 ],
 "metadata": {
  "orig_nbformat": 4,
  "language_info": {
   "name": "python"
  }
 },
 "nbformat": 4,
 "nbformat_minor": 2
}